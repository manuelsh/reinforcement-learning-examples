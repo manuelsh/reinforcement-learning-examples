{
  "nbformat": 4,
  "nbformat_minor": 0,
  "metadata": {
    "colab": {
      "name": "discretiation_example.ipynb",
      "version": "0.3.2",
      "provenance": [],
      "include_colab_link": true
    },
    "kernelspec": {
      "display_name": "Python 3",
      "language": "python",
      "name": "python3"
    }
  },
  "cells": [
    {
      "cell_type": "markdown",
      "metadata": {
        "id": "view-in-github",
        "colab_type": "text"
      },
      "source": [
        "<a href=\"https://colab.research.google.com/github/manuelsh/reinforcement-learning-examples/blob/master/discretiation_example.ipynb\" target=\"_parent\"><img src=\"https://colab.research.google.com/assets/colab-badge.svg\" alt=\"Open In Colab\"/></a>"
      ]
    },
    {
      "metadata": {
        "_uuid": "9c4fbedce9b9d0d1bba05f437da2828d8cab9d0e",
        "id": "ZVinQoQH_9gP",
        "colab_type": "text"
      },
      "cell_type": "markdown",
      "source": [
        "# Discretization\n",
        "\n",
        "---\n",
        "\n",
        "In this notebook, you will deal with continuous state and action spaces by discretizing them. This will enable you to apply reinforcement learning algorithms that are only designed to work with discrete spaces.\n",
        "\n",
        "### 1. Import the Necessary Packages"
      ]
    },
    {
      "metadata": {
        "trusted": true,
        "_uuid": "6d15d102698b4f768ead08c69a617baf8981ffef",
        "id": "AtYpiUAA_9gQ",
        "colab_type": "code",
        "colab": {}
      },
      "cell_type": "code",
      "source": [
        "import sys\n",
        "import gym\n",
        "import numpy as np\n",
        "\n",
        "import pandas as pd\n",
        "import matplotlib.pyplot as plt\n",
        "\n",
        "# Set plotting options\n",
        "%matplotlib inline\n",
        "plt.style.use('ggplot')\n",
        "np.set_printoptions(precision=3, linewidth=120)\n",
        "\n",
        "!python -m pip install pyvirtualdisplay\n",
        "from pyvirtualdisplay import Display\n",
        "display = Display(visible=0, size=(1400, 900))\n",
        "display.start()\n",
        "\n",
        "is_ipython = 'inline' in plt.get_backend()\n",
        "if is_ipython:\n",
        "    from IPython import display\n",
        "\n",
        "plt.ion()"
      ],
      "execution_count": 0,
      "outputs": []
    },
    {
      "metadata": {
        "_uuid": "4234d8ac803e00140fe9d1fa671b69d5636823e3",
        "id": "EbmB7vbx_9gT",
        "colab_type": "text"
      },
      "cell_type": "markdown",
      "source": [
        "### 2. Specify the Environment, and Explore the State and Action Spaces\n",
        "\n",
        "We'll use [OpenAI Gym](https://gym.openai.com/) environments to test and develop our algorithms. These simulate a variety of classic as well as contemporary reinforcement learning tasks.  Let's use an environment that has a continuous state space, but a discrete action space."
      ]
    },
    {
      "metadata": {
        "trusted": true,
        "_uuid": "aa8aaeec2f5df560ec9d9ca9fe4a6aa7879a7ace",
        "id": "meXEKczt_9gT",
        "colab_type": "code",
        "colab": {}
      },
      "cell_type": "code",
      "source": [
        "# Create an environment and set random seed\n",
        "env = gym.make('MountainCar-v0')\n",
        "env.seed(505);"
      ],
      "execution_count": 0,
      "outputs": []
    },
    {
      "metadata": {
        "_uuid": "27ba56e414f5ddc7eb2e228b6228e2771517c116",
        "id": "6RG_wWrY_9gV",
        "colab_type": "text"
      },
      "cell_type": "markdown",
      "source": [
        "Run the next code cell to watch a random agent."
      ]
    },
    {
      "metadata": {
        "trusted": true,
        "_uuid": "11b66d9195535cd61a2a823c61b5fde0b8338a88",
        "scrolled": false,
        "id": "siZuHdpe_9gW",
        "colab_type": "code",
        "colab": {}
      },
      "cell_type": "code",
      "source": [
        "state = env.reset()\n",
        "img = plt.imshow(env.render(mode='rgb_array'))\n",
        "for t in range(1000):\n",
        "    action = env.action_space.sample()\n",
        "    img.set_data(env.render(mode='rgb_array')) \n",
        "    plt.axis('off')\n",
        "    display.display(plt.gcf())\n",
        "    display.clear_output(wait=True)\n",
        "    state, reward, done, _ = env.step(action)\n",
        "    if done:\n",
        "        print('Score: ', t+1)\n",
        "        break\n",
        "        \n",
        "env.close()"
      ],
      "execution_count": 0,
      "outputs": []
    },
    {
      "metadata": {
        "_uuid": "83d506543eb0a83bb684c3dd3828f2ae0c53d99b",
        "id": "XxEnDGaT_9gZ",
        "colab_type": "text"
      },
      "cell_type": "markdown",
      "source": [
        "In this notebook, you will train an agent to perform much better!  For now, we can explore the state and action spaces, as well as sample them."
      ]
    },
    {
      "metadata": {
        "trusted": true,
        "_uuid": "ccfff43b2adc39f0679b913c348bb4ccf9be821e",
        "id": "G7TaoYWQ_9gZ",
        "colab_type": "code",
        "colab": {}
      },
      "cell_type": "code",
      "source": [
        "# Explore state (observation) space\n",
        "print(\"State space:\", env.observation_space)\n",
        "print(\"- low:\", env.observation_space.low)\n",
        "print(\"- high:\", env.observation_space.high)"
      ],
      "execution_count": 0,
      "outputs": []
    },
    {
      "metadata": {
        "trusted": true,
        "_uuid": "d3e4ef02fd4ba0446204e19d795b88928f86506a",
        "id": "ahpHEFVs_9gb",
        "colab_type": "code",
        "colab": {}
      },
      "cell_type": "code",
      "source": [
        "# Generate some samples from the state space \n",
        "print(\"State space samples:\")\n",
        "print(np.array([env.observation_space.sample() for i in range(10)]))"
      ],
      "execution_count": 0,
      "outputs": []
    },
    {
      "metadata": {
        "trusted": true,
        "_uuid": "be1c4fd76b3181641120d3eeb5d8ed7bc578033d",
        "id": "XuoRhzzT_9gd",
        "colab_type": "code",
        "colab": {}
      },
      "cell_type": "code",
      "source": [
        "# Explore the action space\n",
        "print(\"Action space:\", env.action_space)\n",
        "\n",
        "# Generate some samples from the action space\n",
        "print(\"Action space samples:\")\n",
        "print(np.array([env.action_space.sample() for i in range(10)]))"
      ],
      "execution_count": 0,
      "outputs": []
    },
    {
      "metadata": {
        "_uuid": "c861ded5e0edeca08cd4a49da0082a141b946469",
        "id": "5vnPX6j3_9gf",
        "colab_type": "text"
      },
      "cell_type": "markdown",
      "source": [
        "### 3. Discretize the State Space with a Uniform Grid\n",
        "\n",
        "We will discretize the space using a uniformly-spaced grid. Implement the following function to create such a grid, given the lower bounds (`low`), upper bounds (`high`), and number of desired `bins` along each dimension. It should return the split points for each dimension, which will be 1 less than the number of bins.\n",
        "\n",
        "For instance, if `low = [-1.0, -5.0]`, `high = [1.0, 5.0]`, and `bins = (10, 10)`, then your function should return the following list of 2 NumPy arrays:\n",
        "\n",
        "```\n",
        "[array([-0.8, -0.6, -0.4, -0.2,  0.0,  0.2,  0.4,  0.6,  0.8]),\n",
        " array([-4.0, -3.0, -2.0, -1.0,  0.0,  1.0,  2.0,  3.0,  4.0])]\n",
        "```\n",
        "\n",
        "Note that the ends of `low` and `high` are **not** included in these split points. It is assumed that any value below the lowest split point maps to index `0` and any value above the highest split point maps to index `n-1`, where `n` is the number of bins along that dimension."
      ]
    },
    {
      "metadata": {
        "trusted": true,
        "_uuid": "6103faa5717198f9562516fac4801b5d27de9537",
        "id": "YSxqV1_8_9gh",
        "colab_type": "code",
        "colab": {}
      },
      "cell_type": "code",
      "source": [
        "def create_uniform_grid(low, high, bins=(10, 10)):\n",
        "    \"\"\"Define a uniformly-spaced grid that can be used to discretize a space.\n",
        "    \n",
        "    Parameters\n",
        "    ----------\n",
        "    low : array_like\n",
        "        Lower bounds for each dimension of the continuous space.\n",
        "    high : array_like\n",
        "        Upper bounds for each dimension of the continuous space.\n",
        "    bins : tuple\n",
        "        Number of bins along each corresponding dimension.\n",
        "    \n",
        "    Returns\n",
        "    -------\n",
        "    grid : list of array_like\n",
        "        A list of arrays containing split points for each dimension.\n",
        "    \"\"\"\n",
        "    \n",
        "    grid = []\n",
        "    for low_d, high_d, bin_d in zip(low, high, bins):\n",
        "        grid.append(np.arange(low_d, high_d,((high_d-low_d)/bin_d))[1:])\n",
        "    return grid\n",
        "\n",
        "\n",
        "low = [-1.0, -5.0]\n",
        "high = [1.0, 5.0]\n",
        "create_uniform_grid(low, high)  # [test]"
      ],
      "execution_count": 0,
      "outputs": []
    },
    {
      "metadata": {
        "_uuid": "f9807bbb0ede26e49a9798f80b703e45d647a77e",
        "id": "_wxG8JsY_9gj",
        "colab_type": "text"
      },
      "cell_type": "markdown",
      "source": [
        "Now write a function that can convert samples from a continuous space into its equivalent discretized representation, given a grid like the one you created above. You can use the [`numpy.digitize()`](https://docs.scipy.org/doc/numpy-1.9.3/reference/generated/numpy.digitize.html) function for this purpose.\n",
        "\n",
        "Assume the grid is a list of NumPy arrays containing the following split points:\n",
        "```\n",
        "[array([-0.8, -0.6, -0.4, -0.2,  0.0,  0.2,  0.4,  0.6,  0.8]),\n",
        " array([-4.0, -3.0, -2.0, -1.0,  0.0,  1.0,  2.0,  3.0,  4.0])]\n",
        "```\n",
        "\n",
        "Here are some potential samples and their corresponding discretized representations:\n",
        "```\n",
        "[-1.0 , -5.0] => [0, 0]\n",
        "[-0.81, -4.1] => [0, 0]\n",
        "[-0.8 , -4.0] => [1, 1]\n",
        "[-0.5 ,  0.0] => [2, 5]\n",
        "[ 0.2 , -1.9] => [6, 3]\n",
        "[ 0.8 ,  4.0] => [9, 9]\n",
        "[ 0.81,  4.1] => [9, 9]\n",
        "[ 1.0 ,  5.0] => [9, 9]\n",
        "```\n",
        "\n",
        "**Note**: There may be one-off differences in binning due to floating-point inaccuracies when samples are close to grid boundaries, but that is alright."
      ]
    },
    {
      "metadata": {
        "trusted": true,
        "_uuid": "904db60f9270b86554e4ec2545b7670c9fa8ccb9",
        "id": "VxAnQVUD_9gj",
        "colab_type": "code",
        "colab": {}
      },
      "cell_type": "code",
      "source": [
        "def discretize(sample, grid):\n",
        "    \"\"\"Discretize a sample as per given grid.\n",
        "    \n",
        "    Parameters\n",
        "    ----------\n",
        "    sample : array_like\n",
        "        A single sample from the (original) continuous space.\n",
        "    grid : list of array_like\n",
        "        A list of arrays containing split points for each dimension.\n",
        "    \n",
        "    Returns\n",
        "    -------\n",
        "    discretized_sample : array_like\n",
        "        A sequence of integers with the same number of dimensions as sample.\n",
        "    \"\"\"\n",
        "    result = []\n",
        "    for dim,grid_d in zip(sample, grid):\n",
        "        arg = np.argwhere( grid_d>dim ).reshape(-1)\n",
        "        if len(arg)>0:\n",
        "            result.append( arg.min() )\n",
        "        else:\n",
        "            result.append(len(grid_d))\n",
        "    return tuple(result)\n",
        "\n",
        "# Test with a simple grid and some samples\n",
        "grid = create_uniform_grid([-1.0, -5.0], [1.0, 5.0])\n",
        "samples = np.array(\n",
        "    [[-1.0 , -5.0],\n",
        "     [-0.81, -4.1],\n",
        "     [-0.8 , -4.0],\n",
        "     [-0.5 ,  0.0],\n",
        "     [ 0.2 , -1.9],\n",
        "     [ 0.8 ,  4.0],\n",
        "     [ 0.81,  4.1],\n",
        "     [ 1.0 ,  5.0]])\n",
        "discretized_samples = np.array([discretize(sample, grid) for sample in samples])\n",
        "print(\"\\nSamples:\", repr(samples), sep=\"\\n\")\n",
        "print(\"\\nDiscretized samples:\", repr(discretized_samples), sep=\"\\n\")"
      ],
      "execution_count": 0,
      "outputs": []
    },
    {
      "metadata": {
        "_uuid": "9cd07438b91a789ec0d0601139db54bd867c06ee",
        "id": "AKUfI6P5_9gl",
        "colab_type": "text"
      },
      "cell_type": "markdown",
      "source": [
        "### 4. Visualization\n",
        "\n",
        "It might be helpful to visualize the original and discretized samples to get a sense of how much error you are introducing."
      ]
    },
    {
      "metadata": {
        "trusted": true,
        "_uuid": "ce0f0ad20d5985524dced835c8e0bdb0756bade4",
        "id": "fflVqDcS_9gn",
        "colab_type": "code",
        "colab": {}
      },
      "cell_type": "code",
      "source": [
        "import matplotlib.collections as mc\n",
        "\n",
        "def visualize_samples(samples, discretized_samples, grid, low=None, high=None):\n",
        "    \"\"\"Visualize original and discretized samples on a given 2-dimensional grid.\"\"\"\n",
        "\n",
        "    fig, ax = plt.subplots(figsize=(10, 10))\n",
        "    \n",
        "    # Show grid\n",
        "    ax.xaxis.set_major_locator(plt.FixedLocator(grid[0]))\n",
        "    ax.yaxis.set_major_locator(plt.FixedLocator(grid[1]))\n",
        "    ax.grid(True)\n",
        "    \n",
        "    # If bounds (low, high) are specified, use them to set axis limits\n",
        "    if low is not None and high is not None:\n",
        "        ax.set_xlim(low[0], high[0])\n",
        "        ax.set_ylim(low[1], high[1])\n",
        "    else:\n",
        "        # Otherwise use first, last grid locations as low, high (for further mapping discretized samples)\n",
        "        low = [splits[0] for splits in grid]\n",
        "        high = [splits[-1] for splits in grid]\n",
        "\n",
        "    # Map each discretized sample (which is really an index) to the center of corresponding grid cell\n",
        "    grid_extended = np.hstack((np.array([low]).T, grid, np.array([high]).T))  # add low and high ends\n",
        "    grid_centers = (grid_extended[:, 1:] + grid_extended[:, :-1]) / 2  # compute center of each grid cell\n",
        "    locs = np.stack(grid_centers[i, discretized_samples[:, i]] for i in range(len(grid))).T  # map discretized samples\n",
        "\n",
        "    ax.plot(samples[:, 0], samples[:, 1], 'o')  # plot original samples\n",
        "    ax.plot(locs[:, 0], locs[:, 1], 's')  # plot discretized samples in mapped locations\n",
        "    ax.add_collection(mc.LineCollection(list(zip(samples, locs)), colors='orange'))  # add a line connecting each original-discretized sample\n",
        "    ax.legend(['original', 'discretized'])\n",
        "\n",
        "    \n",
        "visualize_samples(samples, discretized_samples, grid, low, high)"
      ],
      "execution_count": 0,
      "outputs": []
    },
    {
      "metadata": {
        "_uuid": "e746ac652bb63ff6bd0273da78a9c6daaa8c621b",
        "id": "fnrOvcYE_9go",
        "colab_type": "text"
      },
      "cell_type": "markdown",
      "source": [
        "Now that we have a way to discretize a state space, let's apply it to our reinforcement learning environment."
      ]
    },
    {
      "metadata": {
        "trusted": true,
        "_uuid": "748379ffef7eb6bfbdbd1c5000ee02b65ff7664a",
        "id": "iG1n_82__9gp",
        "colab_type": "code",
        "colab": {}
      },
      "cell_type": "code",
      "source": [
        "# Create a grid to discretize the state space\n",
        "state_grid = create_uniform_grid(env.observation_space.low, env.observation_space.high, bins=(10, 10))\n",
        "state_grid"
      ],
      "execution_count": 0,
      "outputs": []
    },
    {
      "metadata": {
        "trusted": true,
        "_uuid": "87cbe06bda9cee3d63c868d9b7c8788d74b0123a",
        "id": "aa5qBDg4_9gr",
        "colab_type": "code",
        "colab": {}
      },
      "cell_type": "code",
      "source": [
        "# Obtain some samples from the space, discretize them, and then visualize them\n",
        "state_samples = np.array([env.observation_space.sample() for i in range(10)])\n",
        "discretized_state_samples = np.array([discretize(sample, state_grid) for sample in state_samples])\n",
        "visualize_samples(state_samples, discretized_state_samples, state_grid,\n",
        "                  env.observation_space.low, env.observation_space.high)\n",
        "plt.xlabel('position'); plt.ylabel('velocity');  # axis labels for MountainCar-v0 state space"
      ],
      "execution_count": 0,
      "outputs": []
    },
    {
      "metadata": {
        "_uuid": "c09d846a1c8559196efcada0811ed822e7510d7e",
        "id": "mzPhV3A-_9gt",
        "colab_type": "text"
      },
      "cell_type": "markdown",
      "source": [
        "You might notice that if you have enough bins, the discretization doesn't introduce too much error into your representation.  So we may be able to now apply a reinforcement learning algorithm (like Q-Learning) that operates on discrete spaces.  Give it a shot to see how well it works!\n",
        "\n",
        "### 5. Q-Learning\n",
        "\n",
        "Provided below is a simple Q-Learning agent. Implement the `preprocess_state()` method to convert each continuous state sample to its corresponding discretized representation."
      ]
    },
    {
      "metadata": {
        "trusted": true,
        "_uuid": "58be960db528f8093897df8295baebf4572257a0",
        "id": "atjQBkGv_9gt",
        "colab_type": "code",
        "colab": {}
      },
      "cell_type": "code",
      "source": [
        "class QLearningAgent:\n",
        "    \"\"\"Q-Learning agent that can act on a continuous state space by discretizing it.\"\"\"\n",
        "\n",
        "    def __init__(self, env, state_grid, alpha=0.02, gamma=0.99,\n",
        "                 epsilon=1.0, epsilon_decay_rate=0.9995, min_epsilon=.01, seed=505):\n",
        "        \"\"\"Initialize variables, create grid for discretization.\"\"\"\n",
        "        # Environment info\n",
        "        self.env = env\n",
        "        self.state_grid = state_grid\n",
        "        self.state_size = tuple(len(splits) + 1 for splits in self.state_grid)  # n-dimensional state space\n",
        "        self.action_size = self.env.action_space.n  # 1-dimensional discrete action space\n",
        "        self.seed = np.random.seed(seed)\n",
        "        print(\"Environment:\", self.env)\n",
        "        print(\"State space size:\", self.state_size)\n",
        "        print(\"Action space size:\", self.action_size)\n",
        "        \n",
        "        # Learning parameters\n",
        "        self.alpha = alpha  # learning rate\n",
        "        self.gamma = gamma  # discount factor\n",
        "        self.epsilon = self.initial_epsilon = epsilon  # initial exploration rate\n",
        "        self.epsilon_decay_rate = epsilon_decay_rate # how quickly should we decrease epsilon\n",
        "        self.min_epsilon = min_epsilon\n",
        "        \n",
        "        # Create Q-table\n",
        "        self.q_table = np.zeros(shape=(self.state_size + (self.action_size,)))\n",
        "        print(\"Q table size:\", self.q_table.shape)\n",
        "        \n",
        "        # \n",
        "#         self.state_grid = create_uniform_grid(env.observation_space.low, \n",
        "#                                          env.observation_space.high, \n",
        "#                                          bins=(20,)*env.observation_space.shape[0])\n",
        "\n",
        "    def preprocess_state(self, state):\n",
        "        \"\"\"Map a continuous state to its discretized representation.\"\"\"\n",
        "        return discretize(state, self.state_grid)\n",
        "\n",
        "    def reset_episode(self, state):\n",
        "        \"\"\"Reset variables for a new episode.\"\"\"\n",
        "        # Gradually decrease exploration rate\n",
        "        self.epsilon *= self.epsilon_decay_rate\n",
        "        self.epsilon = max(self.epsilon, self.min_epsilon)\n",
        "\n",
        "        # Decide initial action\n",
        "        self.last_state = self.preprocess_state(state)\n",
        "        self.last_action = np.argmax(self.q_table[self.last_state])\n",
        "        return self.last_action\n",
        "    \n",
        "    def reset_exploration(self, epsilon=None):\n",
        "        \"\"\"Reset exploration rate used when training.\"\"\"\n",
        "        self.epsilon = epsilon if epsilon is not None else self.initial_epsilon\n",
        "\n",
        "    def act(self, state, reward=None, done=None, mode='train'):\n",
        "        \"\"\"Pick next action and update internal Q table (when mode != 'test').\"\"\"\n",
        "        state = self.preprocess_state(state)\n",
        "        if mode == 'test':\n",
        "            # Test mode: Simply produce an action\n",
        "            action = np.argmax(self.q_table[state])\n",
        "        else:\n",
        "            # Train mode (default): Update Q table, pick next action\n",
        "            # Note: We update the Q table entry for the *last* (state, action) pair with current state, reward\n",
        "            self.q_table[self.last_state + (self.last_action,)] += self.alpha * \\\n",
        "                (reward + self.gamma * max(self.q_table[state]) - self.q_table[self.last_state + (self.last_action,)])\n",
        "\n",
        "            # Exploration vs. exploitation\n",
        "            do_exploration = np.random.uniform(0, 1) < self.epsilon\n",
        "            if do_exploration:\n",
        "                # Pick a random action\n",
        "                action = np.random.randint(0, self.action_size)\n",
        "            else:\n",
        "                # Pick the best action from Q table\n",
        "                action = np.argmax(self.q_table[state])\n",
        "\n",
        "        # Roll over current state, action for next step\n",
        "        self.last_state = state\n",
        "        self.last_action = action\n",
        "        return action\n",
        "\n",
        "    \n",
        "q_agent = QLearningAgent(env, state_grid)"
      ],
      "execution_count": 0,
      "outputs": []
    },
    {
      "metadata": {
        "_uuid": "98c66976832a0862935ecbae2759286acb4141e8",
        "id": "s04X5Bn9_9gw",
        "colab_type": "text"
      },
      "cell_type": "markdown",
      "source": [
        "Let's also define a convenience function to run an agent on a given environment.  When calling this function, you can pass in `mode='test'` to tell the agent not to learn."
      ]
    },
    {
      "metadata": {
        "trusted": true,
        "_uuid": "e17c9998dd657dcc1279cfee59b2f343a8523b35",
        "id": "DUxM1iS9_9gy",
        "colab_type": "code",
        "colab": {}
      },
      "cell_type": "code",
      "source": [
        "def run(agent, env, num_episodes=20000, mode='train'):\n",
        "    \"\"\"Run agent in given reinforcement learning environment and return scores.\"\"\"\n",
        "    scores = []\n",
        "    max_avg_score = -np.inf\n",
        "    for i_episode in range(1, num_episodes+1):\n",
        "        # Initialize episode\n",
        "        state = env.reset()\n",
        "        action = agent.reset_episode(state)\n",
        "        total_reward = 0\n",
        "        done = False\n",
        "\n",
        "        # Roll out steps until done\n",
        "        while not done:\n",
        "            state, reward, done, info = env.step(action)\n",
        "            total_reward += reward\n",
        "            action = agent.act(state, reward, done, mode)\n",
        "\n",
        "        # Save final score\n",
        "        scores.append(total_reward)\n",
        "        \n",
        "        # Print episode stats\n",
        "        if mode == 'train':\n",
        "            if len(scores) > 100:\n",
        "                avg_score = np.mean(scores[-100:])\n",
        "                if avg_score > max_avg_score:\n",
        "                    max_avg_score = avg_score\n",
        "\n",
        "            if i_episode % 100 == 0:\n",
        "                print(\"\\rEpisode {}/{} | Max Average Score: {}\".format(i_episode, num_episodes, max_avg_score), end=\"\")\n",
        "                sys.stdout.flush()\n",
        "\n",
        "    return scores\n",
        "\n",
        "scores = run(q_agent, env)"
      ],
      "execution_count": 0,
      "outputs": []
    },
    {
      "metadata": {
        "_uuid": "a1af851024d9d6af0c8543f73668a71aa9fc7347",
        "id": "tmzGhPxP_9g0",
        "colab_type": "text"
      },
      "cell_type": "markdown",
      "source": [
        "The best way to analyze if your agent was learning the task is to plot the scores. It should generally increase as the agent goes through more episodes."
      ]
    },
    {
      "metadata": {
        "trusted": true,
        "_uuid": "3725a6bcc2539160de754112559c3b725068a302",
        "id": "HuATF6d4_9g1",
        "colab_type": "code",
        "colab": {}
      },
      "cell_type": "code",
      "source": [
        "# Plot scores obtained per episode\n",
        "plt.plot(scores); plt.title(\"Scores\");"
      ],
      "execution_count": 0,
      "outputs": []
    },
    {
      "metadata": {
        "_uuid": "9ce01181c9f921f379100e6d8b688dc3cc447196",
        "id": "AjgsgJFC_9g3",
        "colab_type": "text"
      },
      "cell_type": "markdown",
      "source": [
        "If the scores are noisy, it might be difficult to tell whether your agent is actually learning. To find the underlying trend, you may want to plot a rolling mean of the scores. Let's write a convenience function to plot both raw scores as well as a rolling mean."
      ]
    },
    {
      "metadata": {
        "trusted": false,
        "_uuid": "c7b9043d473b312a1ed2453e0478e995da60137b",
        "id": "SD0Ow-F-_9g4",
        "colab_type": "code",
        "colab": {}
      },
      "cell_type": "code",
      "source": [
        "def plot_scores(scores, rolling_window=100):\n",
        "    \"\"\"Plot scores and optional rolling mean using specified window.\"\"\"\n",
        "    plt.plot(scores); plt.title(\"Scores\");\n",
        "    rolling_mean = pd.Series(scores).rolling(rolling_window).mean()\n",
        "    plt.plot(rolling_mean);\n",
        "    return rolling_mean\n",
        "\n",
        "rolling_mean = plot_scores(scores)"
      ],
      "execution_count": 0,
      "outputs": []
    },
    {
      "metadata": {
        "_uuid": "893cd0a8afdc204ff6ba6f68d6b80dd1aa840ce7",
        "id": "5BiJSnjR_9g8",
        "colab_type": "text"
      },
      "cell_type": "markdown",
      "source": [
        "You should observe the mean episode scores go up over time. Next, you can freeze learning and run the agent in test mode to see how well it performs."
      ]
    },
    {
      "metadata": {
        "scrolled": true,
        "trusted": false,
        "_uuid": "c07145d76c6e2ecec559c3e36b6dc384d64e07a4",
        "id": "8itrFE3G_9g9",
        "colab_type": "code",
        "colab": {}
      },
      "cell_type": "code",
      "source": [
        "# Run in test mode and analyze scores obtained\n",
        "test_scores = run(q_agent, env, num_episodes=100, mode='test')\n",
        "print(\"[TEST] Completed {} episodes with avg. score = {}\".format(len(test_scores), np.mean(test_scores)))\n",
        "_ = plot_scores(test_scores, rolling_window=10)"
      ],
      "execution_count": 0,
      "outputs": []
    },
    {
      "metadata": {
        "_uuid": "87936965a329de52835451a399d62a69626b7230",
        "id": "WyOLZmnT_9hA",
        "colab_type": "text"
      },
      "cell_type": "markdown",
      "source": [
        "It's also interesting to look at the final Q-table that is learned by the agent. Note that the Q-table is of size MxNxA, where (M, N) is the size of the state space, and A is the size of the action space. We are interested in the maximum Q-value for each state, and the corresponding (best) action associated with that value."
      ]
    },
    {
      "metadata": {
        "trusted": false,
        "_uuid": "4c8b3c1ea88995ad0c1e5da8c06b19a044cee862",
        "id": "3C76cSxX_9hB",
        "colab_type": "code",
        "colab": {}
      },
      "cell_type": "code",
      "source": [
        "def plot_q_table(q_table):\n",
        "    \"\"\"Visualize max Q-value for each state and corresponding action.\"\"\"\n",
        "    q_image = np.max(q_table, axis=2)       # max Q-value for each state\n",
        "    q_actions = np.argmax(q_table, axis=2)  # best action for each state\n",
        "\n",
        "    fig, ax = plt.subplots(figsize=(10, 10))\n",
        "    cax = ax.imshow(q_image, cmap='jet');\n",
        "    cbar = fig.colorbar(cax)\n",
        "    for x in range(q_image.shape[0]):\n",
        "        for y in range(q_image.shape[1]):\n",
        "            ax.text(x, y, q_actions[x, y], color='white',\n",
        "                    horizontalalignment='center', verticalalignment='center')\n",
        "    ax.grid(False)\n",
        "    ax.set_title(\"Q-table, size: {}\".format(q_table.shape))\n",
        "    ax.set_xlabel('position')\n",
        "    ax.set_ylabel('velocity')\n",
        "\n",
        "\n",
        "plot_q_table(q_agent.q_table)"
      ],
      "execution_count": 0,
      "outputs": []
    },
    {
      "metadata": {
        "_uuid": "285d8f063c7e9eee8593c85c5f904fecf83c1a88",
        "id": "dFlkchZz_9hC",
        "colab_type": "text"
      },
      "cell_type": "markdown",
      "source": [
        "### 6. Modify the Grid\n",
        "\n",
        "Now it's your turn to play with the grid definition and see what gives you optimal results. Your agent's final performance is likely to get better if you use a finer grid, with more bins per dimension, at the cost of higher model complexity (more parameters to learn)."
      ]
    },
    {
      "metadata": {
        "trusted": false,
        "_uuid": "0dccf268025618c1d9cf2855ea35024d05674b42",
        "id": "qwOIQxNH_9hD",
        "colab_type": "code",
        "colab": {}
      },
      "cell_type": "code",
      "source": [
        "# TODO: Create a new agent with a different state space grid\n",
        "state_grid_new = create_uniform_grid(?, ?, bins=(?, ?))\n",
        "q_agent_new = QLearningAgent(env, state_grid_new)\n",
        "q_agent_new.scores = []  # initialize a list to store scores for this agent"
      ],
      "execution_count": 0,
      "outputs": []
    },
    {
      "metadata": {
        "trusted": false,
        "_uuid": "0a528babc042eea09f5a830502f56cff33927a1d",
        "id": "jEd8sDsD_9hF",
        "colab_type": "code",
        "colab": {}
      },
      "cell_type": "code",
      "source": [
        "# Train it over a desired number of episodes and analyze scores\n",
        "# Note: This cell can be run multiple times, and scores will get accumulated\n",
        "q_agent_new.scores += run(q_agent_new, env, num_episodes=50000)  # accumulate scores\n",
        "rolling_mean_new = plot_scores(q_agent_new.scores)"
      ],
      "execution_count": 0,
      "outputs": []
    },
    {
      "metadata": {
        "trusted": false,
        "_uuid": "70d179134b39e3510dd9617bbb5ad4acaa5ea63f",
        "id": "gsqVSzug_9hH",
        "colab_type": "code",
        "colab": {}
      },
      "cell_type": "code",
      "source": [
        "# Run in test mode and analyze scores obtained\n",
        "test_scores = run(q_agent_new, env, num_episodes=100, mode='test')\n",
        "print(\"[TEST] Completed {} episodes with avg. score = {}\".format(len(test_scores), np.mean(test_scores)))\n",
        "_ = plot_scores(test_scores)"
      ],
      "execution_count": 0,
      "outputs": []
    },
    {
      "metadata": {
        "trusted": false,
        "_uuid": "c8aea36246efe6dc3092a2004c8cd4bbd5d315a0",
        "id": "L57usm8c_9hJ",
        "colab_type": "code",
        "colab": {}
      },
      "cell_type": "code",
      "source": [
        "# Visualize the learned Q-table\n",
        "plot_q_table(q_agent_new.q_table)"
      ],
      "execution_count": 0,
      "outputs": []
    },
    {
      "metadata": {
        "_uuid": "de956f35abdce769e5e8026fdba77e3ad650dd97",
        "id": "qftxxzxm_9hK",
        "colab_type": "text"
      },
      "cell_type": "markdown",
      "source": [
        "### 7. Watch a Smart Agent"
      ]
    },
    {
      "metadata": {
        "trusted": false,
        "_uuid": "12cd5133310cbe3ae63ea52ab8dd2d0e7cbae0fa",
        "id": "ULstH3VP_9hL",
        "colab_type": "code",
        "colab": {}
      },
      "cell_type": "code",
      "source": [
        "state = env.reset()\n",
        "score = 0\n",
        "img = plt.imshow(env.render(mode='rgb_array'))\n",
        "for t in range(1000):\n",
        "    action = q_agent_new.act(state, mode='test')\n",
        "    img.set_data(env.render(mode='rgb_array')) \n",
        "    plt.axis('off')\n",
        "    display.display(plt.gcf())\n",
        "    display.clear_output(wait=True)\n",
        "    state, reward, done, _ = env.step(action)\n",
        "    score += reward\n",
        "    if done:\n",
        "        print('Score: ', score)\n",
        "        break\n",
        "        \n",
        "env.close()"
      ],
      "execution_count": 0,
      "outputs": []
    }
  ]
}